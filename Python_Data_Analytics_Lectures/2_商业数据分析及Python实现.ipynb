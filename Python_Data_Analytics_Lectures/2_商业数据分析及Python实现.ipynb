{
 "cells": [
  {
   "cell_type": "markdown",
   "metadata": {},
   "source": [
    "# 商业数据分析及Python实现"
   ]
  },
  {
   "cell_type": "markdown",
   "metadata": {},
   "source": [
    "## 商业数据分析的常见问题\n",
    "\n",
    "### 用户增长\n",
    "\n",
    "\n",
    "### 动态定价\n",
    "\n",
    "\n",
    "### 个性化推荐"
   ]
  },
  {
   "cell_type": "code",
   "execution_count": null,
   "metadata": {},
   "outputs": [],
   "source": []
  },
  {
   "cell_type": "markdown",
   "metadata": {},
   "source": [
    "## 用户增长的AARRR模型\n",
    "\n",
    "\n",
    "备注：\n",
    "- 获取()\n",
    "- 激活()\n",
    "- 留存()\n",
    "- 收入(Revenue)\n",
    "- 传播()\n",
    "\n",
    "参考：\n",
    "http://www.woshipm.com/data-analysis/432475.html"
   ]
  },
  {
   "cell_type": "code",
   "execution_count": null,
   "metadata": {},
   "outputs": [],
   "source": []
  },
  {
   "cell_type": "markdown",
   "metadata": {},
   "source": [
    "## 一个Python实现的案例\n",
    "\n",
    "备注：\n",
    "1. 模拟生成相关的数据表（包括用户基本信息、用户登录记录、交易记录、APP下载记录、用户推荐记录等）\n",
    "2. 生成AARRR的五个基本数据\n",
    "3. 计算转化率等深层指标\n",
    "4. 可视化结果"
   ]
  },
  {
   "cell_type": "code",
   "execution_count": null,
   "metadata": {},
   "outputs": [],
   "source": []
  }
 ],
 "metadata": {
  "kernelspec": {
   "display_name": "Python 3",
   "language": "python",
   "name": "python3"
  },
  "language_info": {
   "codemirror_mode": {
    "name": "ipython",
    "version": 3
   },
   "file_extension": ".py",
   "mimetype": "text/x-python",
   "name": "python",
   "nbconvert_exporter": "python",
   "pygments_lexer": "ipython3",
   "version": "3.6.5"
  }
 },
 "nbformat": 4,
 "nbformat_minor": 2
}
